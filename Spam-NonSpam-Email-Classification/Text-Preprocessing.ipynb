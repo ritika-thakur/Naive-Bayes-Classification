{
 "cells": [
  {
   "cell_type": "code",
   "execution_count": 1,
   "metadata": {},
   "outputs": [],
   "source": [
    "import pandas as pd\n",
    "import numpy as np\n",
    "from nltk.tokenize import word_tokenize\n",
    "import re\n",
    "import nltk\n",
    "from contractions import contractions_dict\n",
    "from nltk.corpus import stopwords\n",
    "from spacy.lang.en.stop_words import STOP_WORDS\n",
    "from itertools import filterfalse\n",
    "from nltk import pos_tag\n",
    "from nltk.stem import WordNetLemmatizer\n",
    "from nltk.corpus import wordnet\n",
    "from sklearn.feature_extraction.text import TfidfVectorizer\n",
    "from sklearn.decomposition import PCA\n",
    "from sklearn.naive_bayes import GaussianNB\n",
    "from sklearn.metrics import classification_report\n",
    "from sklearn.model_selection import train_test_split\n",
    "from sklearn.metrics import accuracy_score,precision_score,recall_score"
   ]
  },
  {
   "cell_type": "code",
   "execution_count": 2,
   "metadata": {},
   "outputs": [],
   "source": [
    "data = pd.read_csv(\"emails.csv\")"
   ]
  },
  {
   "cell_type": "code",
   "execution_count": 3,
   "metadata": {},
   "outputs": [],
   "source": [
    "def strip_titles(text):\n",
    "    if \"Subject: re :\" in text:\n",
    "        return text[13:]\n",
    "    elif \"Subject: news :\" in text:\n",
    "        return text[15:]\n",
    "    else:\n",
    "        return text[8:]\n",
    "    \n",
    "data['text'] = data['text'].apply(lambda x: strip_titles(x))\n",
    "\n",
    "data['text'] = data['text'].apply(lambda x: word_tokenize(x))"
   ]
  },
  {
   "cell_type": "code",
   "execution_count": 4,
   "metadata": {},
   "outputs": [],
   "source": [
    "def normalize_tokens(list_of_tokens):\n",
    "    return map(lambda x: x.lower(),list_of_tokens)\n",
    "\n",
    "data['text'] = data['text'].apply(lambda x: normalize_tokens(x))\n",
    "\n",
    "data['text'] = data['text'].apply(lambda x: list(x))"
   ]
  },
  {
   "cell_type": "code",
   "execution_count": 5,
   "metadata": {},
   "outputs": [],
   "source": [
    "def contracted_word_expansion(token):\n",
    "    if token in contractions_dict.keys():\n",
    "        return contractions_dict[token]\n",
    "    else:\n",
    "        return token\n",
    "    \n",
    "def contractions_expansion(list_of_tokens):\n",
    "    return map(contracted_word_expansion,list_of_tokens)\n",
    "\n",
    "data['text'] = data['text'].apply(lambda x: contractions_expansion(x))\n",
    "\n",
    "data['text'] = data['text'].apply(lambda x: list(x))"
   ]
  },
  {
   "cell_type": "code",
   "execution_count": 6,
   "metadata": {},
   "outputs": [],
   "source": [
    "regex = r'^@[a-zA-z0-9]|^#[a-zA-Z0-9]|\\w+:\\/{2}[\\d\\w-]+(\\.[\\d\\w-]+)*(?:(?:\\/[^\\s/]*))*|\\W+|\\d+|<(\"[^\"]*\"|\\'[^\\']*\\'|[^\\'\">])*>|_+|[^\\u0000-\\u007f]+'\n",
    "\n",
    "def waste_word_or_not(token):\n",
    "    return re.search(regex,token)\n",
    "\n",
    "def filter_waste_words(list_of_tokens):\n",
    "    return filterfalse(waste_word_or_not,list_of_tokens)\n",
    "\n",
    "data['text'] = data['text'].apply(lambda x: filter_waste_words(x))\n",
    "\n",
    "data['text'] = data['text'].apply(lambda x: list(x))\n",
    "\n",
    "def split(list_of_tokens):\n",
    "    return map(lambda x: re.split(regex,x)[0],list_of_tokens)\n",
    "\n",
    "data['text'] = data['text'].apply(lambda x: split(x))\n",
    "\n",
    "data['text'] = data['text'].apply(lambda x: list(x))"
   ]
  },
  {
   "cell_type": "code",
   "execution_count": 7,
   "metadata": {},
   "outputs": [],
   "source": [
    "en_stop_words = list(set(stopwords.words('english')).union(set(STOP_WORDS)))\n",
    "\n",
    "def is_stopword(token):\n",
    "    return not(token in en_stop_words or re.search(r'\\b\\w\\b|[^\\u0000-\\u007f]+|_+|\\W+',token))\n",
    "\n",
    "def stopwords_removal(list_of_tokens):\n",
    "    return filter(is_stopword,list_of_tokens)\n",
    "\n",
    "data['text'] = data['text'].apply(lambda x: stopwords_removal(x))\n",
    "\n",
    "data['text'] = data['text'].apply(lambda x: list(x))"
   ]
  },
  {
   "cell_type": "code",
   "execution_count": 8,
   "metadata": {},
   "outputs": [],
   "source": [
    "def get_wnet_pos_tag(treebank_tag):\n",
    "    \n",
    "    if treebank_tag[1].startswith('J'):\n",
    "        return (treebank_tag[0],wordnet.ADJ)\n",
    "    \n",
    "    elif treebank_tag[1].startswith('V'):\n",
    "        return (treebank_tag[0],wordnet.VERB)\n",
    "    \n",
    "    elif treebank_tag[1].startswith('N'):\n",
    "        return (treebank_tag[0],wordnet.NOUN)\n",
    "    \n",
    "    elif treebank_tag[1].startswith('R'):\n",
    "        return (treebank_tag[0],wordnet.ADV)\n",
    "    \n",
    "    else:\n",
    "        (treebank_tag[0],wordnet.NOUN)\n",
    "        \n",
    "def get_pos_tag(list_of_tokens):\n",
    "    return map(get_wnet_pos_tag,pos_tag(list_of_tokens))\n",
    "\n",
    "data['text'] = data['text'].apply(lambda x: get_pos_tag(x))\n",
    "\n",
    "data['text'] = data['text'].apply(lambda x: list(x))"
   ]
  },
  {
   "cell_type": "code",
   "execution_count": 9,
   "metadata": {},
   "outputs": [],
   "source": [
    "lemmatizer = WordNetLemmatizer()"
   ]
  },
  {
   "cell_type": "code",
   "execution_count": 10,
   "metadata": {},
   "outputs": [],
   "source": [
    "def token_lemmatization(token_pos_tuple):\n",
    "    if token_pos_tuple == None:\n",
    "        return \"\"\n",
    "    else:\n",
    "        return lemmatizer.lemmatize(word=token_pos_tuple[0],pos=token_pos_tuple[1])\n",
    "    \n",
    "def lemmatization(list_of_tokens):\n",
    "    if len(list_of_tokens) > 0:\n",
    "        return map(lambda x: token_lemmatization(x),list_of_tokens)\n",
    "    \n",
    "data['text'] = data['text'].apply(lambda x: lemmatization(x))\n",
    "\n",
    "data['text'] = data['text'].apply(lambda x: list(x))"
   ]
  },
  {
   "cell_type": "code",
   "execution_count": 11,
   "metadata": {},
   "outputs": [],
   "source": [
    "vocab = set()\n",
    "for list_of_tokens in data['text']:\n",
    "    vocab = vocab.union(set(list_of_tokens))\n",
    "    \n",
    "vocab = list(vocab)\n",
    "\n",
    "while('' in vocab):\n",
    "    vocab.remove('')\n",
    "    \n",
    "vocab_dict = dict(zip(vocab,list(range(0,len(vocab)))))"
   ]
  },
  {
   "cell_type": "code",
   "execution_count": 12,
   "metadata": {},
   "outputs": [],
   "source": [
    "def join_tokens(list_of_tokens):\n",
    "    return \" \".join(list_of_tokens)\n",
    "\n",
    "data['text'] = data['text'].apply(lambda x: join_tokens(x))"
   ]
  },
  {
   "cell_type": "code",
   "execution_count": 13,
   "metadata": {},
   "outputs": [],
   "source": [
    "corpus = list()\n",
    "for email_text in data['text']:\n",
    "    corpus.append(email_text)"
   ]
  },
  {
   "cell_type": "code",
   "execution_count": 14,
   "metadata": {},
   "outputs": [],
   "source": [
    "vectorizer = TfidfVectorizer(vocabulary=vocab_dict)\n",
    "\n",
    "tf_idf_matrix = vectorizer.fit_transform(corpus)\n",
    "\n",
    "tf_idf_matrix = tf_idf_matrix.toarray()"
   ]
  },
  {
   "cell_type": "code",
   "execution_count": 15,
   "metadata": {},
   "outputs": [],
   "source": [
    "df = pd.DataFrame(tf_idf_matrix)\n",
    "\n",
    "df['spam'] = data['spam']"
   ]
  },
  {
   "cell_type": "code",
   "execution_count": 16,
   "metadata": {},
   "outputs": [],
   "source": [
    "gnb = GaussianNB()"
   ]
  },
  {
   "cell_type": "code",
   "execution_count": 17,
   "metadata": {},
   "outputs": [
    {
     "name": "stdout",
     "output_type": "stream",
     "text": [
      "Principle Components: 10\n",
      "              precision    recall  f1-score   support\n",
      "\n",
      "           0       0.85      0.99      0.92      3510\n",
      "           1       0.95      0.45      0.61      1072\n",
      "\n",
      "    accuracy                           0.86      4582\n",
      "   macro avg       0.90      0.72      0.76      4582\n",
      "weighted avg       0.88      0.86      0.85      4582\n",
      "\n",
      "\n",
      "\n",
      "Principle Components: 20\n",
      "              precision    recall  f1-score   support\n",
      "\n",
      "           0       0.85      0.99      0.91      3489\n",
      "           1       0.94      0.43      0.59      1093\n",
      "\n",
      "    accuracy                           0.86      4582\n",
      "   macro avg       0.89      0.71      0.75      4582\n",
      "weighted avg       0.87      0.86      0.84      4582\n",
      "\n",
      "\n",
      "\n",
      "Principle Components: 30\n",
      "              precision    recall  f1-score   support\n",
      "\n",
      "           0       0.88      0.99      0.93      3476\n",
      "           1       0.93      0.56      0.70      1106\n",
      "\n",
      "    accuracy                           0.88      4582\n",
      "   macro avg       0.90      0.77      0.81      4582\n",
      "weighted avg       0.89      0.88      0.87      4582\n",
      "\n",
      "\n",
      "\n",
      "Principle Components: 40\n",
      "              precision    recall  f1-score   support\n",
      "\n",
      "           0       0.88      0.99      0.93      3468\n",
      "           1       0.95      0.60      0.73      1114\n",
      "\n",
      "    accuracy                           0.89      4582\n",
      "   macro avg       0.92      0.79      0.83      4582\n",
      "weighted avg       0.90      0.89      0.88      4582\n",
      "\n",
      "\n",
      "\n",
      "Principle Components: 50\n",
      "              precision    recall  f1-score   support\n",
      "\n",
      "           0       0.93      0.99      0.96      3493\n",
      "           1       0.95      0.76      0.84      1089\n",
      "\n",
      "    accuracy                           0.93      4582\n",
      "   macro avg       0.94      0.87      0.90      4582\n",
      "weighted avg       0.93      0.93      0.93      4582\n",
      "\n",
      "\n",
      "\n",
      "Principle Components: 60\n",
      "              precision    recall  f1-score   support\n",
      "\n",
      "           0       0.95      0.96      0.96      3469\n",
      "           1       0.88      0.85      0.86      1113\n",
      "\n",
      "    accuracy                           0.94      4582\n",
      "   macro avg       0.92      0.91      0.91      4582\n",
      "weighted avg       0.93      0.94      0.94      4582\n",
      "\n",
      "\n",
      "\n",
      "Principle Components: 70\n",
      "              precision    recall  f1-score   support\n",
      "\n",
      "           0       0.95      0.94      0.94      3500\n",
      "           1       0.80      0.84      0.82      1082\n",
      "\n",
      "    accuracy                           0.91      4582\n",
      "   macro avg       0.88      0.89      0.88      4582\n",
      "weighted avg       0.91      0.91      0.91      4582\n",
      "\n",
      "\n",
      "\n",
      "Principle Components: 100\n",
      "              precision    recall  f1-score   support\n",
      "\n",
      "           0       0.95      0.90      0.92      3465\n",
      "           1       0.72      0.84      0.78      1117\n",
      "\n",
      "    accuracy                           0.88      4582\n",
      "   macro avg       0.83      0.87      0.85      4582\n",
      "weighted avg       0.89      0.88      0.89      4582\n",
      "\n",
      "\n",
      "\n",
      "Principle Components: 500\n",
      "              precision    recall  f1-score   support\n",
      "\n",
      "           0       0.91      0.90      0.91      3496\n",
      "           1       0.70      0.72      0.71      1086\n",
      "\n",
      "    accuracy                           0.86      4582\n",
      "   macro avg       0.81      0.81      0.81      4582\n",
      "weighted avg       0.86      0.86      0.86      4582\n",
      "\n",
      "\n",
      "\n",
      "Principle Components: 1000\n",
      "              precision    recall  f1-score   support\n",
      "\n",
      "           0       0.90      0.90      0.90      3471\n",
      "           1       0.68      0.69      0.69      1111\n",
      "\n",
      "    accuracy                           0.85      4582\n",
      "   macro avg       0.79      0.80      0.79      4582\n",
      "weighted avg       0.85      0.85      0.85      4582\n",
      "\n",
      "\n",
      "\n",
      "Principle Components: 5000\n",
      "              precision    recall  f1-score   support\n",
      "\n",
      "           0       0.85      0.86      0.85      3482\n",
      "           1       0.54      0.50      0.52      1100\n",
      "\n",
      "    accuracy                           0.78      4582\n",
      "   macro avg       0.69      0.68      0.69      4582\n",
      "weighted avg       0.77      0.78      0.77      4582\n",
      "\n",
      "\n",
      "\n"
     ]
    }
   ],
   "source": [
    "components = [10, 20, 30, 40, 50, 60, 70, 100, 500, 1000, 5000]\n",
    "\n",
    "def apply_pca(n):\n",
    "    \n",
    "    pca = PCA(n_components=n)\n",
    "\n",
    "    tf_idf_matrix_reduced = pca.fit_transform(tf_idf_matrix)\n",
    "\n",
    "    df = pd.DataFrame(data=tf_idf_matrix_reduced)\n",
    "\n",
    "    df['spam'] = data['spam']\n",
    "    \n",
    "    X_data = df.iloc[:,0:n]\n",
    "    \n",
    "    y_data = df['spam']\n",
    "    \n",
    "    X_data = np.array(X_data)\n",
    "    \n",
    "    y_data = np.array(y_data)\n",
    "    \n",
    "    X_train, X_test, y_train, y_test = train_test_split( X_data, y_data, test_size=0.20)\n",
    "    \n",
    "    return  X_train, X_test, y_train, y_test\n",
    "    \n",
    "\n",
    "\n",
    "for n in components:\n",
    "\n",
    "    X_train_data, X_test_data, y_train_data, y_test_data = apply_pca(n) \n",
    "    \n",
    "    gnb.fit(X=X_train_data, y=y_train_data)\n",
    "    \n",
    "    predicted_categories = gnb.predict(X_train_data)\n",
    "    \n",
    "    print(f\"Principle Components: {n}\")\n",
    "    \n",
    "    print(classification_report(y_true=y_train_data, y_pred=predicted_categories))\n",
    "    \n",
    "    print(\"\\n\")\n",
    "    \n"
   ]
  },
  {
   "cell_type": "markdown",
   "metadata": {},
   "source": [
    "Since accuracy is found highest for 60 principle components, hence we will find test accuracy on the data applying pca with 60 principle components."
   ]
  },
  {
   "cell_type": "code",
   "execution_count": 18,
   "metadata": {},
   "outputs": [],
   "source": [
    "X_train_data, X_test_data, y_train_data, y_test_data = apply_pca(60)"
   ]
  },
  {
   "cell_type": "code",
   "execution_count": 19,
   "metadata": {},
   "outputs": [],
   "source": [
    "gnb.fit(X=X_train_data, y=y_train_data)\n",
    "    \n",
    "predicted_categories = gnb.predict(X_train_data)"
   ]
  },
  {
   "cell_type": "code",
   "execution_count": 20,
   "metadata": {},
   "outputs": [],
   "source": [
    "predicted_test_categories = gnb.predict(X_test_data)"
   ]
  },
  {
   "cell_type": "code",
   "execution_count": 21,
   "metadata": {},
   "outputs": [
    {
     "name": "stdout",
     "output_type": "stream",
     "text": [
      "              precision    recall  f1-score   support\n",
      "\n",
      "           0       0.96      0.95      0.96       882\n",
      "           1       0.84      0.88      0.86       264\n",
      "\n",
      "    accuracy                           0.93      1146\n",
      "   macro avg       0.90      0.91      0.91      1146\n",
      "weighted avg       0.93      0.93      0.93      1146\n",
      "\n"
     ]
    }
   ],
   "source": [
    "print(classification_report(y_true=y_test_data, y_pred= predicted_test_categories))"
   ]
  },
  {
   "cell_type": "code",
   "execution_count": null,
   "metadata": {},
   "outputs": [],
   "source": []
  }
 ],
 "metadata": {
  "kernelspec": {
   "display_name": "Python 3",
   "language": "python",
   "name": "python3"
  },
  "language_info": {
   "codemirror_mode": {
    "name": "ipython",
    "version": 3
   },
   "file_extension": ".py",
   "mimetype": "text/x-python",
   "name": "python",
   "nbconvert_exporter": "python",
   "pygments_lexer": "ipython3",
   "version": "3.7.0"
  }
 },
 "nbformat": 4,
 "nbformat_minor": 4
}
