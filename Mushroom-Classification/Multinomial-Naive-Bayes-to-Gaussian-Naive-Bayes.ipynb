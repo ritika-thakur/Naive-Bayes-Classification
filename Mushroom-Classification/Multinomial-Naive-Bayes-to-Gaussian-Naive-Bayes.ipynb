{
 "cells": [
  {
   "cell_type": "code",
   "execution_count": 1,
   "metadata": {},
   "outputs": [],
   "source": [
    "import pandas as pd\n",
    "\n",
    "import numpy as np\n",
    "\n",
    "import scipy.stats as s\n",
    "\n",
    "import matplotlib.pyplot as plt \n",
    "\n",
    "import seaborn as sns"
   ]
  },
  {
   "cell_type": "code",
   "execution_count": 2,
   "metadata": {},
   "outputs": [],
   "source": [
    "data = pd.read_csv(\"mushrooms.csv\")"
   ]
  },
  {
   "cell_type": "code",
   "execution_count": 3,
   "metadata": {},
   "outputs": [],
   "source": [
    "for column in data.columns[1:]:\n",
    "    \n",
    "    data[column].replace(to_replace = list(data[column].unique()), value = list(range(0,len(data[column].unique()))), inplace = True)"
   ]
  },
  {
   "cell_type": "code",
   "execution_count": 4,
   "metadata": {},
   "outputs": [],
   "source": [
    "data_array = list()\n",
    "\n",
    "for column in data.columns[1:]:\n",
    "    \n",
    "    data_array.append(np.eye(len(data[column].unique()), len(data[column].unique()))[data[column]])"
   ]
  },
  {
   "cell_type": "code",
   "execution_count": 5,
   "metadata": {},
   "outputs": [
    {
     "data": {
      "text/plain": [
       "(8124, 117)"
      ]
     },
     "execution_count": 5,
     "metadata": {},
     "output_type": "execute_result"
    }
   ],
   "source": [
    "X = np.concatenate(data_array, axis=1)\n",
    "\n",
    "X.shape"
   ]
  },
  {
   "cell_type": "code",
   "execution_count": 6,
   "metadata": {},
   "outputs": [],
   "source": [
    "X_dash = X - np.mean(X, axis=0)\n",
    "\n",
    "X_cov = (1/data.shape[0])*np.matmul(X_dash.T, X_dash)\n",
    "\n",
    "factored_matrix = np.linalg.svd(X_cov)\n",
    "\n",
    "Q = factored_matrix[0]\n",
    "\n",
    "Q_tilda = Q[:,0:3]\n",
    "\n",
    "X_new = np.matmul(X_dash, Q_tilda)"
   ]
  },
  {
   "cell_type": "code",
   "execution_count": 7,
   "metadata": {},
   "outputs": [],
   "source": [
    "labels = np.array(data['class']).reshape(data['class'].shape[0],1)\n",
    "\n",
    "new_df = pd.DataFrame(data = X_new)\n",
    "\n",
    "new_df['class'] = labels"
   ]
  },
  {
   "cell_type": "code",
   "execution_count": 8,
   "metadata": {},
   "outputs": [],
   "source": [
    "training_data_len = int(0.7*new_df.shape[0])\n",
    "\n",
    "cv_data_len = int(0.2*new_df.shape[0])"
   ]
  },
  {
   "cell_type": "code",
   "execution_count": 9,
   "metadata": {},
   "outputs": [],
   "source": [
    "poissonous_train = new_df[new_df['class'] == 'p'].iloc[0:training_data_len//2]\n",
    "\n",
    "non_poissonous_train = new_df[new_df['class'] == 'e'].iloc[0:training_data_len//2]\n",
    "\n",
    "training_data = pd.concat([poissonous_train, non_poissonous_train])\n",
    "\n",
    "poissonous_remain = new_df[new_df['class'] == 'p'].iloc[training_data_len//2:]\n",
    "\n",
    "non_poissonous_remain = new_df[new_df['class'] == 'e'].iloc[training_data_len//2:]\n",
    "\n",
    "remaining_data = pd.concat([poissonous_remain, non_poissonous_remain])"
   ]
  },
  {
   "cell_type": "code",
   "execution_count": 10,
   "metadata": {},
   "outputs": [],
   "source": [
    "remaining_data = np.array(remaining_data)\n",
    "\n",
    "random_indices = np.random.choice(np.arange(0,2438),size=(2438,),replace=False)\n",
    "\n",
    "remaining_data = remaining_data[random_indices]\n",
    "\n",
    "remaining_data_labels = remaining_data[:,3].reshape(remaining_data.shape[0],1)\n",
    "\n",
    "remaining_data = pd.DataFrame(data = remaining_data[:,0:3])\n",
    "\n",
    "remaining_data['class'] = remaining_data_labels"
   ]
  },
  {
   "cell_type": "code",
   "execution_count": 11,
   "metadata": {},
   "outputs": [],
   "source": [
    "cv_data = remaining_data[0:cv_data_len]\n",
    "\n",
    "testing_data = remaining_data[cv_data_len:]"
   ]
  },
  {
   "cell_type": "code",
   "execution_count": 12,
   "metadata": {},
   "outputs": [
    {
     "data": {
      "text/plain": [
       "0.37377824362795586"
      ]
     },
     "execution_count": 12,
     "metadata": {},
     "output_type": "execute_result"
    }
   ],
   "source": [
    "mu_hat_p = np.array(training_data[training_data['class'] == 'p'].iloc[:,0:3].mean())\n",
    "\n",
    "sigma_hat_p = np.array(training_data[training_data['class'] == 'p'].iloc[:,0:3].cov())\n",
    "\n",
    "np.linalg.det(sigma_hat_p)"
   ]
  },
  {
   "cell_type": "code",
   "execution_count": 13,
   "metadata": {},
   "outputs": [
    {
     "data": {
      "text/plain": [
       "0.012859141870228722"
      ]
     },
     "execution_count": 13,
     "metadata": {},
     "output_type": "execute_result"
    }
   ],
   "source": [
    "mu_hat_e = np.array(training_data[training_data['class'] == 'e'].iloc[:,0:3].mean())\n",
    "\n",
    "sigma_hat_e = np.array(training_data[training_data['class'] == 'e'].iloc[:,0:3].cov())\n",
    "\n",
    "np.linalg.det(sigma_hat_e)"
   ]
  },
  {
   "cell_type": "code",
   "execution_count": 14,
   "metadata": {},
   "outputs": [],
   "source": [
    "poissonous_prior = training_data[training_data['class'] == 'p'].shape[0]/training_data.shape[0]\n",
    "\n",
    "non_poissonous_prior = training_data[training_data['class'] == 'e'].shape[0]/training_data.shape[0]"
   ]
  },
  {
   "cell_type": "code",
   "execution_count": 15,
   "metadata": {},
   "outputs": [],
   "source": [
    "def cv_testing(data):\n",
    "    \n",
    "    inputs = np.array(data.iloc[:,0:3])\n",
    "    \n",
    "    posterior_p = s.multivariate_normal.pdf(inputs, mu_hat_p, sigma_hat_p) * poissonous_prior\n",
    "    \n",
    "    posterior_e = s.multivariate_normal.pdf(inputs, mu_hat_e, sigma_hat_e) * non_poissonous_prior\n",
    "    \n",
    "    boolean_mask = posterior_p > posterior_e\n",
    "    \n",
    "    predicted_category = pd.Series(boolean_mask)\n",
    "    \n",
    "    predicted_category.replace(to_replace=[False,True], value = ['e','p'], inplace =True)\n",
    "    \n",
    "    return np.array(predicted_category)"
   ]
  },
  {
   "cell_type": "code",
   "execution_count": 16,
   "metadata": {},
   "outputs": [
    {
     "data": {
      "text/plain": [
       "0.8201970443349754"
      ]
     },
     "execution_count": 16,
     "metadata": {},
     "output_type": "execute_result"
    }
   ],
   "source": [
    "cv_results = cv_testing(cv_data)\n",
    "\n",
    "actual_results = np.array(cv_data['class'])\n",
    "\n",
    "cv_accuracy = np.count_nonzero(cv_results == actual_results)/actual_results.shape[0]\n",
    "\n",
    "cv_accuracy"
   ]
  },
  {
   "cell_type": "code",
   "execution_count": 17,
   "metadata": {},
   "outputs": [
    {
     "data": {
      "text/plain": [
       "0.8157248157248157"
      ]
     },
     "execution_count": 17,
     "metadata": {},
     "output_type": "execute_result"
    }
   ],
   "source": [
    "testing_results = cv_testing(testing_data)\n",
    "\n",
    "actual_results = np.array(testing_data['class'])\n",
    "\n",
    "testing_accuracy = np.count_nonzero(testing_results == actual_results)/actual_results.shape[0]\n",
    "\n",
    "testing_accuracy"
   ]
  }
 ],
 "metadata": {
  "kernelspec": {
   "display_name": "Python 3",
   "language": "python",
   "name": "python3"
  },
  "language_info": {
   "codemirror_mode": {
    "name": "ipython",
    "version": 3
   },
   "file_extension": ".py",
   "mimetype": "text/x-python",
   "name": "python",
   "nbconvert_exporter": "python",
   "pygments_lexer": "ipython3",
   "version": "3.7.0"
  }
 },
 "nbformat": 4,
 "nbformat_minor": 2
}
