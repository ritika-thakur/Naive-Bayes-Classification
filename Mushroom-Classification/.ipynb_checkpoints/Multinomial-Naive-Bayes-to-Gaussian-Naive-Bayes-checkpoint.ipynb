{
 "cells": [
  {
   "cell_type": "code",
   "execution_count": 61,
   "metadata": {},
   "outputs": [],
   "source": [
    "import pandas as pd\n",
    "\n",
    "import numpy as np\n",
    "\n",
    "import scipy.stats as s\n",
    "\n",
    "import matplotlib.pyplot as plt \n",
    "\n",
    "import seaborn as sns"
   ]
  },
  {
   "cell_type": "code",
   "execution_count": 62,
   "metadata": {},
   "outputs": [],
   "source": [
    "data = pd.read_csv(\"mushrooms.csv\")"
   ]
  },
  {
   "cell_type": "code",
   "execution_count": 63,
   "metadata": {},
   "outputs": [],
   "source": [
    "for column in data.columns[1:]:\n",
    "    \n",
    "    data[column].replace(to_replace = list(data[column].unique()), value = list(range(0,len(data[column].unique()))), inplace = True)"
   ]
  },
  {
   "cell_type": "code",
   "execution_count": 64,
   "metadata": {},
   "outputs": [
    {
     "data": {
      "text/html": [
       "<div>\n",
       "<style scoped>\n",
       "    .dataframe tbody tr th:only-of-type {\n",
       "        vertical-align: middle;\n",
       "    }\n",
       "\n",
       "    .dataframe tbody tr th {\n",
       "        vertical-align: top;\n",
       "    }\n",
       "\n",
       "    .dataframe thead th {\n",
       "        text-align: right;\n",
       "    }\n",
       "</style>\n",
       "<table border=\"1\" class=\"dataframe\">\n",
       "  <thead>\n",
       "    <tr style=\"text-align: right;\">\n",
       "      <th></th>\n",
       "      <th>class</th>\n",
       "      <th>cap-shape</th>\n",
       "      <th>cap-surface</th>\n",
       "      <th>cap-color</th>\n",
       "      <th>bruises</th>\n",
       "      <th>odor</th>\n",
       "      <th>gill-attachment</th>\n",
       "      <th>gill-spacing</th>\n",
       "      <th>gill-size</th>\n",
       "      <th>gill-color</th>\n",
       "      <th>...</th>\n",
       "      <th>stalk-surface-below-ring</th>\n",
       "      <th>stalk-color-above-ring</th>\n",
       "      <th>stalk-color-below-ring</th>\n",
       "      <th>veil-type</th>\n",
       "      <th>veil-color</th>\n",
       "      <th>ring-number</th>\n",
       "      <th>ring-type</th>\n",
       "      <th>spore-print-color</th>\n",
       "      <th>population</th>\n",
       "      <th>habitat</th>\n",
       "    </tr>\n",
       "  </thead>\n",
       "  <tbody>\n",
       "    <tr>\n",
       "      <th>0</th>\n",
       "      <td>p</td>\n",
       "      <td>0</td>\n",
       "      <td>0</td>\n",
       "      <td>0</td>\n",
       "      <td>0</td>\n",
       "      <td>0</td>\n",
       "      <td>0</td>\n",
       "      <td>0</td>\n",
       "      <td>0</td>\n",
       "      <td>0</td>\n",
       "      <td>...</td>\n",
       "      <td>0</td>\n",
       "      <td>0</td>\n",
       "      <td>0</td>\n",
       "      <td>0</td>\n",
       "      <td>0</td>\n",
       "      <td>0</td>\n",
       "      <td>0</td>\n",
       "      <td>0</td>\n",
       "      <td>0</td>\n",
       "      <td>0</td>\n",
       "    </tr>\n",
       "    <tr>\n",
       "      <th>1</th>\n",
       "      <td>e</td>\n",
       "      <td>0</td>\n",
       "      <td>0</td>\n",
       "      <td>1</td>\n",
       "      <td>0</td>\n",
       "      <td>1</td>\n",
       "      <td>0</td>\n",
       "      <td>0</td>\n",
       "      <td>1</td>\n",
       "      <td>0</td>\n",
       "      <td>...</td>\n",
       "      <td>0</td>\n",
       "      <td>0</td>\n",
       "      <td>0</td>\n",
       "      <td>0</td>\n",
       "      <td>0</td>\n",
       "      <td>0</td>\n",
       "      <td>0</td>\n",
       "      <td>1</td>\n",
       "      <td>1</td>\n",
       "      <td>1</td>\n",
       "    </tr>\n",
       "    <tr>\n",
       "      <th>2</th>\n",
       "      <td>e</td>\n",
       "      <td>1</td>\n",
       "      <td>0</td>\n",
       "      <td>2</td>\n",
       "      <td>0</td>\n",
       "      <td>2</td>\n",
       "      <td>0</td>\n",
       "      <td>0</td>\n",
       "      <td>1</td>\n",
       "      <td>1</td>\n",
       "      <td>...</td>\n",
       "      <td>0</td>\n",
       "      <td>0</td>\n",
       "      <td>0</td>\n",
       "      <td>0</td>\n",
       "      <td>0</td>\n",
       "      <td>0</td>\n",
       "      <td>0</td>\n",
       "      <td>1</td>\n",
       "      <td>1</td>\n",
       "      <td>2</td>\n",
       "    </tr>\n",
       "    <tr>\n",
       "      <th>3</th>\n",
       "      <td>p</td>\n",
       "      <td>0</td>\n",
       "      <td>1</td>\n",
       "      <td>2</td>\n",
       "      <td>0</td>\n",
       "      <td>0</td>\n",
       "      <td>0</td>\n",
       "      <td>0</td>\n",
       "      <td>0</td>\n",
       "      <td>1</td>\n",
       "      <td>...</td>\n",
       "      <td>0</td>\n",
       "      <td>0</td>\n",
       "      <td>0</td>\n",
       "      <td>0</td>\n",
       "      <td>0</td>\n",
       "      <td>0</td>\n",
       "      <td>0</td>\n",
       "      <td>0</td>\n",
       "      <td>0</td>\n",
       "      <td>0</td>\n",
       "    </tr>\n",
       "    <tr>\n",
       "      <th>4</th>\n",
       "      <td>e</td>\n",
       "      <td>0</td>\n",
       "      <td>0</td>\n",
       "      <td>3</td>\n",
       "      <td>1</td>\n",
       "      <td>3</td>\n",
       "      <td>0</td>\n",
       "      <td>1</td>\n",
       "      <td>1</td>\n",
       "      <td>0</td>\n",
       "      <td>...</td>\n",
       "      <td>0</td>\n",
       "      <td>0</td>\n",
       "      <td>0</td>\n",
       "      <td>0</td>\n",
       "      <td>0</td>\n",
       "      <td>0</td>\n",
       "      <td>1</td>\n",
       "      <td>1</td>\n",
       "      <td>2</td>\n",
       "      <td>1</td>\n",
       "    </tr>\n",
       "  </tbody>\n",
       "</table>\n",
       "<p>5 rows × 23 columns</p>\n",
       "</div>"
      ],
      "text/plain": [
       "  class  cap-shape  cap-surface  cap-color  bruises  odor  gill-attachment  \\\n",
       "0     p          0            0          0        0     0                0   \n",
       "1     e          0            0          1        0     1                0   \n",
       "2     e          1            0          2        0     2                0   \n",
       "3     p          0            1          2        0     0                0   \n",
       "4     e          0            0          3        1     3                0   \n",
       "\n",
       "   gill-spacing  gill-size  gill-color   ...     stalk-surface-below-ring  \\\n",
       "0             0          0           0   ...                            0   \n",
       "1             0          1           0   ...                            0   \n",
       "2             0          1           1   ...                            0   \n",
       "3             0          0           1   ...                            0   \n",
       "4             1          1           0   ...                            0   \n",
       "\n",
       "   stalk-color-above-ring  stalk-color-below-ring  veil-type  veil-color  \\\n",
       "0                       0                       0          0           0   \n",
       "1                       0                       0          0           0   \n",
       "2                       0                       0          0           0   \n",
       "3                       0                       0          0           0   \n",
       "4                       0                       0          0           0   \n",
       "\n",
       "   ring-number  ring-type  spore-print-color  population  habitat  \n",
       "0            0          0                  0           0        0  \n",
       "1            0          0                  1           1        1  \n",
       "2            0          0                  1           1        2  \n",
       "3            0          0                  0           0        0  \n",
       "4            0          1                  1           2        1  \n",
       "\n",
       "[5 rows x 23 columns]"
      ]
     },
     "execution_count": 64,
     "metadata": {},
     "output_type": "execute_result"
    }
   ],
   "source": [
    "data.head()"
   ]
  },
  {
   "cell_type": "code",
   "execution_count": 65,
   "metadata": {},
   "outputs": [],
   "source": [
    "data_array = list()\n",
    "\n",
    "for column in data.columns[1:]:\n",
    "    \n",
    "    data_array.append(np.eye(len(data[column].unique()), len(data[column].unique()))[data[column]])"
   ]
  },
  {
   "cell_type": "code",
   "execution_count": 66,
   "metadata": {},
   "outputs": [
    {
     "data": {
      "text/plain": [
       "(8124, 117)"
      ]
     },
     "execution_count": 66,
     "metadata": {},
     "output_type": "execute_result"
    }
   ],
   "source": [
    "X = np.concatenate(data_array, axis=1)\n",
    "\n",
    "X.shape"
   ]
  },
  {
   "cell_type": "code",
   "execution_count": 67,
   "metadata": {},
   "outputs": [
    {
     "data": {
      "text/plain": [
       "array([[ 0.54997538, -0.05563762, -0.00393895, ..., -0.14081733,\n",
       "        -0.02363368, -0.1024126 ],\n",
       "       [ 0.54997538, -0.05563762, -0.00393895, ..., -0.14081733,\n",
       "        -0.02363368, -0.1024126 ],\n",
       "       [-0.45002462,  0.94436238, -0.00393895, ..., -0.14081733,\n",
       "        -0.02363368, -0.1024126 ],\n",
       "       ...,\n",
       "       [-0.45002462, -0.05563762, -0.00393895, ..., -0.14081733,\n",
       "        -0.02363368,  0.8975874 ],\n",
       "       [-0.45002462, -0.05563762, -0.00393895, ..., -0.14081733,\n",
       "        -0.02363368,  0.8975874 ],\n",
       "       [ 0.54997538, -0.05563762, -0.00393895, ..., -0.14081733,\n",
       "        -0.02363368,  0.8975874 ]])"
      ]
     },
     "execution_count": 67,
     "metadata": {},
     "output_type": "execute_result"
    }
   ],
   "source": [
    "X_dash = X - np.mean(X, axis=0)\n",
    "\n",
    "X_dash"
   ]
  },
  {
   "cell_type": "code",
   "execution_count": 68,
   "metadata": {},
   "outputs": [
    {
     "data": {
      "text/plain": [
       "array([[ 2.47502461e-01, -2.50382973e-02, -1.77262282e-03, ...,\n",
       "        -5.02562327e-03, -2.75784426e-03, -1.45766227e-02],\n",
       "       [-2.50382973e-02,  5.25420725e-02, -2.19153587e-04, ...,\n",
       "        -7.58855659e-03, -1.31492152e-03,  7.02794523e-04],\n",
       "       [-1.77262282e-03, -2.19153587e-04,  3.92343103e-03, ...,\n",
       "        -5.54671911e-04, -9.30917892e-05, -4.03397753e-04],\n",
       "       ...,\n",
       "       [-5.02562327e-03, -7.58855659e-03, -5.54671911e-04, ...,\n",
       "         1.20987811e-01, -3.32803147e-03, -1.44214697e-02],\n",
       "       [-2.75784426e-03, -1.31492152e-03, -9.30917892e-05, ...,\n",
       "        -3.32803147e-03,  2.30751273e-02, -2.42038652e-03],\n",
       "       [-1.45766227e-02,  7.02794523e-04, -4.03397753e-04, ...,\n",
       "        -1.44214697e-02, -2.42038652e-03,  9.19242630e-02]])"
      ]
     },
     "execution_count": 68,
     "metadata": {},
     "output_type": "execute_result"
    }
   ],
   "source": [
    "X_cov = (1/data.shape[0])*np.matmul(X_dash.T, X_dash)\n",
    "\n",
    "X_cov"
   ]
  },
  {
   "cell_type": "code",
   "execution_count": 69,
   "metadata": {},
   "outputs": [],
   "source": [
    "factored_matrix = np.linalg.svd(X_cov)\n",
    "\n",
    "Q = factored_matrix[0]\n",
    "\n",
    "Q_tilda = Q[:,0:3]\n",
    "\n",
    "X_new = np.matmul(X_dash, Q_tilda)"
   ]
  },
  {
   "cell_type": "code",
   "execution_count": 70,
   "metadata": {},
   "outputs": [],
   "source": [
    "labels = np.array(data['class']).reshape(data['class'].shape[0],1)\n",
    "\n",
    "new_df = pd.DataFrame(data = X_new)\n",
    "\n",
    "new_df['class'] = labels"
   ]
  },
  {
   "cell_type": "code",
   "execution_count": 71,
   "metadata": {},
   "outputs": [],
   "source": [
    "training_data_len = int(0.7*new_df.shape[0])\n",
    "\n",
    "cv_data_len = int(0.2*new_df.shape[0])"
   ]
  },
  {
   "cell_type": "code",
   "execution_count": 72,
   "metadata": {},
   "outputs": [],
   "source": [
    "poissonous_train = new_df[new_df['class'] == 'p'].iloc[0:training_data_len//2]\n",
    "\n",
    "non_poissonous_train = new_df[new_df['class'] == 'e'].iloc[0:training_data_len//2]\n",
    "\n",
    "training_data = pd.concat([poissonous_train, non_poissonous_train])\n",
    "\n",
    "poissonous_remain = new_df[new_df['class'] == 'p'].iloc[training_data_len//2:]\n",
    "\n",
    "non_poissonous_remain = new_df[new_df['class'] == 'e'].iloc[training_data_len//2:]\n",
    "\n",
    "remaining_data = pd.concat([poissonous_remain, non_poissonous_remain])"
   ]
  },
  {
   "cell_type": "code",
   "execution_count": 73,
   "metadata": {},
   "outputs": [],
   "source": [
    "remaining_data = np.array(remaining_data)\n",
    "\n",
    "random_indices = np.random.choice(np.arange(0,2438),size=(2438,),replace=False)\n",
    "\n",
    "remaining_data = remaining_data[random_indices]\n",
    "\n",
    "remaining_data_labels = remaining_data[:,3].reshape(remaining_data.shape[0],1)\n",
    "\n",
    "remaining_data = pd.DataFrame(data = remaining_data[:,0:3])\n",
    "\n",
    "remaining_data['class'] = remaining_data_labels"
   ]
  },
  {
   "cell_type": "code",
   "execution_count": 74,
   "metadata": {},
   "outputs": [],
   "source": [
    "cv_data = remaining_data[0:cv_data_len]\n",
    "\n",
    "testing_data = remaining_data[cv_data_len:]"
   ]
  },
  {
   "cell_type": "code",
   "execution_count": 75,
   "metadata": {},
   "outputs": [
    {
     "data": {
      "text/plain": [
       "0.37377824362795586"
      ]
     },
     "execution_count": 75,
     "metadata": {},
     "output_type": "execute_result"
    }
   ],
   "source": [
    "mu_hat_p = np.array(training_data[training_data['class'] == 'p'].iloc[:,0:3].mean())\n",
    "\n",
    "sigma_hat_p = np.array(training_data[training_data['class'] == 'p'].iloc[:,0:3].cov())\n",
    "\n",
    "np.linalg.det(sigma_hat_p)"
   ]
  },
  {
   "cell_type": "code",
   "execution_count": 76,
   "metadata": {},
   "outputs": [
    {
     "data": {
      "text/plain": [
       "0.012859141870228722"
      ]
     },
     "execution_count": 76,
     "metadata": {},
     "output_type": "execute_result"
    }
   ],
   "source": [
    "mu_hat_e = np.array(training_data[training_data['class'] == 'e'].iloc[:,0:3].mean())\n",
    "\n",
    "sigma_hat_e = np.array(training_data[training_data['class'] == 'e'].iloc[:,0:3].cov())\n",
    "\n",
    "np.linalg.det(sigma_hat_e)"
   ]
  },
  {
   "cell_type": "code",
   "execution_count": 77,
   "metadata": {},
   "outputs": [],
   "source": [
    "poissonous_prior = training_data[training_data['class'] == 'p'].shape[0]/training_data.shape[0]\n",
    "\n",
    "non_poissonous_prior = training_data[training_data['class'] == 'e'].shape[0]/training_data.shape[0]"
   ]
  },
  {
   "cell_type": "code",
   "execution_count": 78,
   "metadata": {},
   "outputs": [],
   "source": [
    "def cv_testing(data):\n",
    "    \n",
    "    inputs = np.array(data.iloc[:,0:3])\n",
    "    \n",
    "    posterior_p = s.multivariate_normal.pdf(inputs, mu_hat_p, sigma_hat_p) * poissonous_prior\n",
    "    \n",
    "    posterior_e = s.multivariate_normal.pdf(inputs, mu_hat_e, sigma_hat_e) * non_poissonous_prior\n",
    "    \n",
    "    boolean_mask = posterior_p > posterior_e\n",
    "    \n",
    "    predicted_category = pd.Series(boolean_mask)\n",
    "    \n",
    "    predicted_category.replace(to_replace=[False,True], value = ['e','p'], inplace =True)\n",
    "    \n",
    "    return np.array(predicted_category)"
   ]
  },
  {
   "cell_type": "code",
   "execution_count": 79,
   "metadata": {},
   "outputs": [
    {
     "data": {
      "text/plain": [
       "0.8060344827586207"
      ]
     },
     "execution_count": 79,
     "metadata": {},
     "output_type": "execute_result"
    }
   ],
   "source": [
    "cv_results = cv_testing(cv_data)\n",
    "\n",
    "actual_results = np.array(cv_data['class'])\n",
    "\n",
    "cv_accuracy = np.count_nonzero(cv_results == actual_results)/actual_results.shape[0]\n",
    "\n",
    "cv_accuracy"
   ]
  },
  {
   "cell_type": "code",
   "execution_count": 80,
   "metadata": {},
   "outputs": [
    {
     "data": {
      "text/plain": [
       "0.8439803439803439"
      ]
     },
     "execution_count": 80,
     "metadata": {},
     "output_type": "execute_result"
    }
   ],
   "source": [
    "testing_results = cv_testing(testing_data)\n",
    "\n",
    "actual_results = np.array(testing_data['class'])\n",
    "\n",
    "testing_accuracy = np.count_nonzero(testing_results == actual_results)/actual_results.shape[0]\n",
    "\n",
    "testing_accuracy"
   ]
  }
 ],
 "metadata": {
  "kernelspec": {
   "display_name": "Python 3",
   "language": "python",
   "name": "python3"
  },
  "language_info": {
   "codemirror_mode": {
    "name": "ipython",
    "version": 3
   },
   "file_extension": ".py",
   "mimetype": "text/x-python",
   "name": "python",
   "nbconvert_exporter": "python",
   "pygments_lexer": "ipython3",
   "version": "3.7.0"
  }
 },
 "nbformat": 4,
 "nbformat_minor": 2
}
