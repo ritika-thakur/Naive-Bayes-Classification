{
 "cells": [
  {
   "cell_type": "markdown",
   "metadata": {},
   "source": [
    "# Gaussian Naive Bayes For Single Random Variable"
   ]
  },
  {
   "cell_type": "code",
   "execution_count": 1,
   "metadata": {},
   "outputs": [],
   "source": [
    "import numpy as np\n",
    "\n",
    "import pandas as pd\n",
    "\n",
    "import scipy.stats as s\n",
    "\n",
    "import matplotlib.pyplot as plt\n",
    "\n",
    "import seaborn as sns"
   ]
  },
  {
   "cell_type": "code",
   "execution_count": 2,
   "metadata": {},
   "outputs": [
    {
     "data": {
      "text/html": [
       "<div>\n",
       "<style scoped>\n",
       "    .dataframe tbody tr th:only-of-type {\n",
       "        vertical-align: middle;\n",
       "    }\n",
       "\n",
       "    .dataframe tbody tr th {\n",
       "        vertical-align: top;\n",
       "    }\n",
       "\n",
       "    .dataframe thead th {\n",
       "        text-align: right;\n",
       "    }\n",
       "</style>\n",
       "<table border=\"1\" class=\"dataframe\">\n",
       "  <thead>\n",
       "    <tr style=\"text-align: right;\">\n",
       "      <th></th>\n",
       "      <th>diagnosis</th>\n",
       "      <th>radius_mean</th>\n",
       "    </tr>\n",
       "  </thead>\n",
       "  <tbody>\n",
       "    <tr>\n",
       "      <th>0</th>\n",
       "      <td>M</td>\n",
       "      <td>17.99</td>\n",
       "    </tr>\n",
       "    <tr>\n",
       "      <th>1</th>\n",
       "      <td>M</td>\n",
       "      <td>20.57</td>\n",
       "    </tr>\n",
       "    <tr>\n",
       "      <th>2</th>\n",
       "      <td>M</td>\n",
       "      <td>19.69</td>\n",
       "    </tr>\n",
       "    <tr>\n",
       "      <th>3</th>\n",
       "      <td>M</td>\n",
       "      <td>11.42</td>\n",
       "    </tr>\n",
       "    <tr>\n",
       "      <th>4</th>\n",
       "      <td>M</td>\n",
       "      <td>20.29</td>\n",
       "    </tr>\n",
       "  </tbody>\n",
       "</table>\n",
       "</div>"
      ],
      "text/plain": [
       "  diagnosis  radius_mean\n",
       "0         M        17.99\n",
       "1         M        20.57\n",
       "2         M        19.69\n",
       "3         M        11.42\n",
       "4         M        20.29"
      ]
     },
     "execution_count": 2,
     "metadata": {},
     "output_type": "execute_result"
    }
   ],
   "source": [
    "data = pd.read_csv(\"data.csv\")\n",
    "\n",
    "data.drop([data.columns[0], data.columns[32]], axis =1, inplace = True)\n",
    "\n",
    "data = data.iloc[:,0:2]\n",
    "\n",
    "data.head()"
   ]
  },
  {
   "cell_type": "code",
   "execution_count": 3,
   "metadata": {},
   "outputs": [],
   "source": [
    "training_data_len = int(0.7*data.shape[0])\n",
    "\n",
    "benign_training_data = data[data['diagnosis'] == 'B'].iloc[0:training_data_len//2]\n",
    "\n",
    "malignant_training_data = data[data['diagnosis'] == 'M'].iloc[0:training_data_len//2]\n",
    "\n",
    "training_data = pd.concat([benign_training_data, malignant_training_data])"
   ]
  },
  {
   "cell_type": "code",
   "execution_count": 4,
   "metadata": {},
   "outputs": [],
   "source": [
    "cv_data_len = int(0.2 * data.shape[0])\n",
    "\n",
    "begning_remaining_data = data[data['diagnosis'] == 'B'].iloc[training_data_len//2:]\n",
    "\n",
    "malignant_remaining_data = data[data['diagnosis'] == 'M'].iloc[training_data_len//2:]\n",
    "\n",
    "remaining_data = pd.concat([begning_remaining_data,malignant_remaining_data])\n",
    "\n",
    "cv_data = remaining_data.iloc[0:cv_data_len]\n",
    "\n",
    "testing_data = remaining_data.iloc[cv_data_len:]"
   ]
  },
  {
   "cell_type": "markdown",
   "metadata": {},
   "source": [
    "So now we need to evaluate the following Probability:\n",
    "\n",
    "\\begin{equation}\n",
    "P(Diagnosis = M | radius mean = x) = P(radius mean = x | Diagnosis = M)\\cdot P(Diagnosis = M)\n",
    "\\end{equation}\n",
    "\n",
    "Now in order to evaluate the likelihood probability **P(radiusmean = x | Diagnosis = M)** which is given by :\n",
    "\n",
    "\\begin{equation}\n",
    "P(radiusmean = x | Diagnosis = M)= \\left(\\frac{1}{\\sqrt{2\\pi}\\hat{\\sigma_\\text{rM}}}e^{-\\frac{(x-\\mu_\\text{rM})^2}{2\\sigma_\\text{rM}^2}}\\right)\n",
    "\\end{equation}\n",
    "\n",
    " Now, for this PDF, we need to find out **the best estimate of the parameters of Normal Distribution** because we are assuming that our malignant tumor training data is being sampled from a Normal (gaussian) Distribution. The two parameters will be namely: *mu_hat_rM & sigma_hat_rM*"
   ]
  },
  {
   "cell_type": "code",
   "execution_count": 5,
   "metadata": {},
   "outputs": [],
   "source": [
    "mu_hat_rm = training_data[training_data['diagnosis'] == 'M']['radius_mean'].mean()\n",
    "\n",
    "sigma_hat_rm = training_data[training_data['diagnosis'] == 'M']['radius_mean'].std()\n",
    "\n",
    "malignant_prior = training_data[training_data['diagnosis'] == 'M'].shape[0]/training_data.shape[0]"
   ]
  },
  {
   "cell_type": "markdown",
   "metadata": {},
   "source": [
    "So now we need to evaluate the following Probability:\n",
    "\n",
    "\\begin{equation}\n",
    "P(Diagnosis = B | radius mean = x) = P(radius mean = x | Diagnosis = B)\\cdot P(Diagnosis = M)\n",
    "\\end{equation}\n",
    "\n",
    "Now in order to evaluate the likelihood probability **P(radiusmean = x | Diagnosis = B)** which is given by:\n",
    "\n",
    "\n",
    "\n",
    "\\begin{equation}\n",
    "P(radiusmean = x | Diagnosis = B)= \\left(\\frac{1}{\\sqrt{2\\pi}\\hat{\\sigma_\\text{rB}}}e^{-\\frac{(x-\\mu_\\text{rB})^2}{2\\sigma_\\text{rB}^2}}\\right)\n",
    "\\end{equation}\n",
    "\n",
    "\n",
    "Now, for this PDF, we need to find out **the best estimate of the parameters of Normal Distribution** because we are assuming that our malignant tumor training data is being sampled from a Normal (gaussian) Distribution. The two parameters will be namely: *mu_hat_rB & sigma_hat_rB*"
   ]
  },
  {
   "cell_type": "code",
   "execution_count": 6,
   "metadata": {},
   "outputs": [],
   "source": [
    "mu_hat_rb = training_data[training_data['diagnosis'] == 'B']['radius_mean'].mean()\n",
    "\n",
    "sigma_hat_rb = training_data[training_data['diagnosis'] == 'B']['radius_mean'].std()\n",
    "\n",
    "benign_prior = training_data[training_data['diagnosis'] == 'B'].shape[0]/training_data.shape[0]"
   ]
  },
  {
   "cell_type": "code",
   "execution_count": 7,
   "metadata": {},
   "outputs": [],
   "source": [
    "def cv_data_testing(data):\n",
    "    \n",
    "    inputs = np.array(data['radius_mean'])\n",
    "    \n",
    "    posterior_m = s.norm.pdf(inputs, mu_hat_rm, sigma_hat_rm) * malignant_prior\n",
    "    \n",
    "    posterior_b = s.norm.pdf(inputs, mu_hat_rb, sigma_hat_rb) * benign_prior\n",
    "    \n",
    "    boolean_mask = posterior_m > posterior_b\n",
    "    \n",
    "    predicted_category = pd.Series(boolean_mask)\n",
    "    \n",
    "    predicted_category.replace(to_replace=[False, True], value = ['B', 'M'], inplace=True)\n",
    "    \n",
    "    return np.array(predicted_category)"
   ]
  },
  {
   "cell_type": "code",
   "execution_count": 8,
   "metadata": {},
   "outputs": [
    {
     "data": {
      "text/plain": [
       "array(['B', 'B', 'B', 'M', 'B', 'B', 'M', 'B', 'M', 'B', 'B', 'B', 'B',\n",
       "       'B', 'B', 'B', 'B', 'B', 'B', 'B', 'B', 'B', 'B', 'B', 'B', 'B',\n",
       "       'B', 'B', 'B', 'B', 'B', 'B', 'B', 'M', 'B', 'B', 'B', 'B', 'B',\n",
       "       'M', 'B', 'B', 'B', 'B', 'B', 'M', 'B', 'B', 'B', 'B', 'B', 'B',\n",
       "       'B', 'B', 'B', 'M', 'B', 'B', 'B', 'B', 'B', 'B', 'B', 'B', 'M',\n",
       "       'M', 'B', 'B', 'M', 'B', 'B', 'B', 'B', 'B', 'B', 'B', 'B', 'B',\n",
       "       'B', 'B', 'B', 'B', 'B', 'B', 'M', 'B', 'B', 'B', 'B', 'B', 'B',\n",
       "       'B', 'B', 'B', 'B', 'M', 'B', 'M', 'B', 'B', 'M', 'B', 'B', 'M',\n",
       "       'B', 'B', 'M', 'B', 'B', 'B', 'B', 'B', 'M'], dtype=object)"
      ]
     },
     "execution_count": 8,
     "metadata": {},
     "output_type": "execute_result"
    }
   ],
   "source": [
    "cv_results = cv_data_testing(cv_data)\n",
    "\n",
    "cv_results"
   ]
  },
  {
   "cell_type": "code",
   "execution_count": 9,
   "metadata": {},
   "outputs": [
    {
     "data": {
      "text/plain": [
       "array([ True,  True,  True, False,  True,  True, False,  True, False,\n",
       "        True,  True,  True,  True,  True,  True,  True,  True,  True,\n",
       "        True,  True,  True,  True,  True,  True,  True,  True,  True,\n",
       "        True,  True,  True,  True,  True,  True, False,  True,  True,\n",
       "        True,  True,  True, False,  True,  True,  True,  True,  True,\n",
       "       False,  True,  True,  True,  True,  True,  True,  True,  True,\n",
       "        True, False,  True,  True,  True,  True,  True,  True,  True,\n",
       "        True, False, False,  True,  True, False,  True,  True,  True,\n",
       "        True,  True,  True,  True,  True,  True,  True,  True,  True,\n",
       "        True,  True,  True, False,  True,  True,  True,  True,  True,\n",
       "        True,  True,  True,  True,  True, False,  True, False,  True,\n",
       "        True, False,  True,  True, False,  True,  True, False,  True,\n",
       "        True,  True,  True,  True, False])"
      ]
     },
     "execution_count": 9,
     "metadata": {},
     "output_type": "execute_result"
    }
   ],
   "source": [
    "actual_results = np.array(cv_data['diagnosis'])\n",
    "\n",
    "boolean_mask = cv_results == actual_results\n",
    "\n",
    "boolean_mask"
   ]
  },
  {
   "cell_type": "code",
   "execution_count": 10,
   "metadata": {},
   "outputs": [
    {
     "data": {
      "text/plain": [
       "0.8495575221238938"
      ]
     },
     "execution_count": 10,
     "metadata": {},
     "output_type": "execute_result"
    }
   ],
   "source": [
    "cv_accuracy = np.count_nonzero(boolean_mask)/boolean_mask.shape[0]\n",
    "\n",
    "cv_accuracy"
   ]
  },
  {
   "cell_type": "code",
   "execution_count": 11,
   "metadata": {},
   "outputs": [
    {
     "data": {
      "text/plain": [
       "array(['B', 'M', 'M', 'B', 'B', 'B', 'B', 'B', 'B', 'B', 'B', 'B', 'B',\n",
       "       'B', 'B', 'B', 'B', 'B', 'B', 'B', 'B', 'B', 'B', 'M', 'M', 'B',\n",
       "       'B', 'B', 'B', 'B', 'B', 'B', 'B', 'B', 'B', 'B', 'B', 'B', 'B',\n",
       "       'B', 'M', 'B', 'B', 'B', 'B', 'M', 'M', 'M', 'M', 'M', 'M', 'B',\n",
       "       'M', 'M', 'M', 'M', 'M', 'M'], dtype=object)"
      ]
     },
     "execution_count": 11,
     "metadata": {},
     "output_type": "execute_result"
    }
   ],
   "source": [
    "testing_results = cv_data_testing(testing_data)\n",
    "\n",
    "testing_results"
   ]
  },
  {
   "cell_type": "code",
   "execution_count": 12,
   "metadata": {},
   "outputs": [
    {
     "data": {
      "text/plain": [
       "array(['B', 'B', 'B', 'B', 'B', 'B', 'B', 'B', 'B', 'B', 'B', 'B', 'B',\n",
       "       'B', 'B', 'B', 'B', 'B', 'B', 'B', 'B', 'B', 'B', 'B', 'B', 'B',\n",
       "       'B', 'B', 'B', 'B', 'B', 'B', 'B', 'B', 'B', 'B', 'B', 'B', 'B',\n",
       "       'B', 'B', 'B', 'B', 'B', 'B', 'M', 'M', 'M', 'M', 'M', 'M', 'M',\n",
       "       'M', 'M', 'M', 'M', 'M', 'M'], dtype=object)"
      ]
     },
     "execution_count": 12,
     "metadata": {},
     "output_type": "execute_result"
    }
   ],
   "source": [
    "actual_testing_results = np.array(testing_data['diagnosis'])\n",
    "\n",
    "actual_testing_results"
   ]
  },
  {
   "cell_type": "code",
   "execution_count": 13,
   "metadata": {},
   "outputs": [
    {
     "data": {
      "text/plain": [
       "0.896551724137931"
      ]
     },
     "execution_count": 13,
     "metadata": {},
     "output_type": "execute_result"
    }
   ],
   "source": [
    "testing_accuracy = np.count_nonzero(testing_results == actual_testing_results)/actual_testing_results.shape[0]\n",
    "\n",
    "testing_accuracy"
   ]
  }
 ],
 "metadata": {
  "kernelspec": {
   "display_name": "Python 3",
   "language": "python",
   "name": "python3"
  },
  "language_info": {
   "codemirror_mode": {
    "name": "ipython",
    "version": 3
   },
   "file_extension": ".py",
   "mimetype": "text/x-python",
   "name": "python",
   "nbconvert_exporter": "python",
   "pygments_lexer": "ipython3",
   "version": "3.7.0"
  }
 },
 "nbformat": 4,
 "nbformat_minor": 2
}
