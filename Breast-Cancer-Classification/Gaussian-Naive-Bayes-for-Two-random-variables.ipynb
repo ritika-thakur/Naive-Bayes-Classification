{
 "cells": [
  {
   "cell_type": "markdown",
   "metadata": {},
   "source": [
    "# Gaussian Naive Bayes For Two Random Variable"
   ]
  },
  {
   "cell_type": "code",
   "execution_count": 1,
   "metadata": {},
   "outputs": [],
   "source": [
    "import numpy as np\n",
    "\n",
    "import pandas as pd\n",
    "\n",
    "import scipy.stats as s\n",
    "\n",
    "import matplotlib.pyplot as plt\n",
    "\n",
    "import seaborn as sns"
   ]
  },
  {
   "cell_type": "code",
   "execution_count": 2,
   "metadata": {},
   "outputs": [
    {
     "data": {
      "text/html": [
       "<div>\n",
       "<style scoped>\n",
       "    .dataframe tbody tr th:only-of-type {\n",
       "        vertical-align: middle;\n",
       "    }\n",
       "\n",
       "    .dataframe tbody tr th {\n",
       "        vertical-align: top;\n",
       "    }\n",
       "\n",
       "    .dataframe thead th {\n",
       "        text-align: right;\n",
       "    }\n",
       "</style>\n",
       "<table border=\"1\" class=\"dataframe\">\n",
       "  <thead>\n",
       "    <tr style=\"text-align: right;\">\n",
       "      <th></th>\n",
       "      <th>diagnosis</th>\n",
       "      <th>radius_mean</th>\n",
       "      <th>texture_mean</th>\n",
       "    </tr>\n",
       "  </thead>\n",
       "  <tbody>\n",
       "    <tr>\n",
       "      <th>0</th>\n",
       "      <td>M</td>\n",
       "      <td>17.99</td>\n",
       "      <td>10.38</td>\n",
       "    </tr>\n",
       "    <tr>\n",
       "      <th>1</th>\n",
       "      <td>M</td>\n",
       "      <td>20.57</td>\n",
       "      <td>17.77</td>\n",
       "    </tr>\n",
       "    <tr>\n",
       "      <th>2</th>\n",
       "      <td>M</td>\n",
       "      <td>19.69</td>\n",
       "      <td>21.25</td>\n",
       "    </tr>\n",
       "    <tr>\n",
       "      <th>3</th>\n",
       "      <td>M</td>\n",
       "      <td>11.42</td>\n",
       "      <td>20.38</td>\n",
       "    </tr>\n",
       "    <tr>\n",
       "      <th>4</th>\n",
       "      <td>M</td>\n",
       "      <td>20.29</td>\n",
       "      <td>14.34</td>\n",
       "    </tr>\n",
       "  </tbody>\n",
       "</table>\n",
       "</div>"
      ],
      "text/plain": [
       "  diagnosis  radius_mean  texture_mean\n",
       "0         M        17.99         10.38\n",
       "1         M        20.57         17.77\n",
       "2         M        19.69         21.25\n",
       "3         M        11.42         20.38\n",
       "4         M        20.29         14.34"
      ]
     },
     "execution_count": 2,
     "metadata": {},
     "output_type": "execute_result"
    }
   ],
   "source": [
    "data = pd.read_csv(\"data.csv\")\n",
    "\n",
    "data.drop([data.columns[0], data.columns[32]], axis =1, inplace = True)\n",
    "\n",
    "data = data.iloc[:,0:3]\n",
    "\n",
    "data.head()"
   ]
  },
  {
   "cell_type": "code",
   "execution_count": 3,
   "metadata": {},
   "outputs": [],
   "source": [
    "training_data_len = int(0.7*data.shape[0])\n",
    "\n",
    "benign_training_data = data[data['diagnosis'] == 'B'].iloc[0:training_data_len//2]\n",
    "\n",
    "malignant_training_data = data[data['diagnosis'] == 'M'].iloc[0:training_data_len//2]\n",
    "\n",
    "training_data = pd.concat([benign_training_data, malignant_training_data])"
   ]
  },
  {
   "cell_type": "code",
   "execution_count": 4,
   "metadata": {},
   "outputs": [],
   "source": [
    "cv_data_len = int(0.2 * data.shape[0])\n",
    "\n",
    "begning_remaining_data = data[data['diagnosis'] == 'B'].iloc[training_data_len//2:]\n",
    "\n",
    "malignant_remaining_data = data[data['diagnosis'] == 'M'].iloc[training_data_len//2:]\n",
    "\n",
    "remaining_data = pd.concat([begning_remaining_data,malignant_remaining_data])\n",
    "\n",
    "cv_data = remaining_data.iloc[0:cv_data_len]\n",
    "\n",
    "testing_data = remaining_data.iloc[cv_data_len:]"
   ]
  },
  {
   "cell_type": "markdown",
   "metadata": {},
   "source": [
    "So now we need to evaluate the following Probability:\n",
    "\n",
    "\\begin{equation}\n",
    "P(Diagnosis = M | radius mean = x) = P(radius mean = x | Diagnosis = M)\\cdot P(texture mean = y | Diagnosis = M)\\cdot   P(Diagnosis = M)\n",
    "\\end{equation}\n",
    "\n",
    "Now in order to evaluate the likelihood probability **P(radiusmean = x | Diagnosis = M) . P(texturemean = y | Diagnosis = M)** which is given by **Multivariate Joint Gaussian  Distribution PDF**. Now, for this PDF, we need to find out *the best estimate of the parameters of Normal Distribution* because we are assuming that our malignant tumor training data is being sampled from a Normal (gaussian) Distribution. The two parameters will be namely: *mu_hat_m & sigma_hat_m* \n",
    "\n",
    "\n",
    "\\begin{equation}\n",
    "P(radiusmean = x | Diagnosis = M)\\cdot P(texturemean = y | Diagnosis = M) = \\left(\\frac{1}{\\sqrt{2\\pi}\\hat{\\sigma_\\text{rM}}}e^{-\\frac{(x-\\mu_\\text{rM})^2}{2\\sigma_\\text{rM}^2}}\\right)\\cdot\\left(\\frac{1}{\\sqrt{2\\pi}\\hat{\\sigma_\\text{tM}}}e^{-\\frac{(y-\\mu_\\text{tM})^2}{2\\sigma_\\text{tM}^2}}\\right)\n",
    "\\end{equation}\n",
    "\n"
   ]
  },
  {
   "cell_type": "code",
   "execution_count": 5,
   "metadata": {},
   "outputs": [],
   "source": [
    "mu_hat_m = np.array(training_data[training_data['diagnosis'] == 'M'].iloc[:,1:3].mean())\n",
    "\n",
    "sigma_hat_m = np.array(training_data[training_data['diagnosis'] == 'M'].iloc[:,1:3].cov()) \n",
    "\n",
    "malignant_prior = training_data[training_data['diagnosis'] == 'M'].shape[0]/training_data.shape[0]"
   ]
  },
  {
   "cell_type": "markdown",
   "metadata": {},
   "source": [
    "So now we need to evaluate the following Probability:\n",
    "\n",
    "\\begin{equation}\n",
    "P(Diagnosis = B | radius mean = x) = P(radius mean = x | Diagnosis = B)\\cdot P(texture mean = y | Diagnosis = B)\\cdot P(Diagnosis = M)\n",
    "\\end{equation}\n",
    "\n",
    "Now in order to evaluate the likelihood probability **P(radiusmean = x | Diagnosis = B) . P(texturemean = y | Diagnosis = M)** which is given by **Multivariate Joint Gaussian  Distribution PDF**. Now, for this PDF, we need to find out *the best estimate of the parameters of Normal Distribution* because we are assuming that our malignant tumor training data is being sampled from a Normal (gaussian) Distribution. The two parameters will be namely: *mu_hat_b & sigma_hat_b*\n",
    "\n",
    "\n",
    "\\begin{equation}\n",
    "P(radiusmean = x | Diagnosis = B)\\cdot P(texturemean = y | Diagnosis = B) = \\left(\\frac{1}{\\sqrt{2\\pi}\\hat{\\sigma_\\text{rB}}}e^{-\\frac{(x-\\mu_\\text{rB})^2}{2\\sigma_\\text{rB}^2}}\\right)\\cdot\\left(\\frac{1}{\\sqrt{2\\pi}\\hat{\\sigma_\\text{tB}}}e^{-\\frac{(y-\\mu_\\text{tB})^2}{2\\sigma_\\text{tB}^2}}\\right)\n",
    "\\end{equation}\n",
    "\n"
   ]
  },
  {
   "cell_type": "code",
   "execution_count": 6,
   "metadata": {},
   "outputs": [],
   "source": [
    "mu_hat_b = np.array(training_data[training_data['diagnosis'] == 'B'].iloc[:,1:3].mean())\n",
    "\n",
    "sigma_hat_b = np.array(training_data[training_data['diagnosis'] == 'B'].iloc[:,1:3].cov()) \n",
    "\n",
    "benign_prior = training_data[training_data['diagnosis'] == 'B'].shape[0]/training_data.shape[0]"
   ]
  },
  {
   "cell_type": "code",
   "execution_count": 7,
   "metadata": {},
   "outputs": [],
   "source": [
    "def cv_data_testing(data):\n",
    "    \n",
    "    inputs = np.array(data.iloc[:,1:3])\n",
    "    \n",
    "    posterior_m = s.multivariate_normal.pdf(inputs, mu_hat_m, sigma_hat_m) * malignant_prior\n",
    "    \n",
    "    posterior_b = s.multivariate_normal.pdf(inputs, mu_hat_b, sigma_hat_b) * benign_prior\n",
    "    \n",
    "    boolean_mask = posterior_m > posterior_b\n",
    "    \n",
    "    predicted_category = pd.Series(boolean_mask)\n",
    "    \n",
    "    predicted_category.replace(to_replace=[False, True], value = ['B', 'M'], inplace=True)\n",
    "    \n",
    "    return np.array(predicted_category)"
   ]
  },
  {
   "cell_type": "code",
   "execution_count": 8,
   "metadata": {},
   "outputs": [
    {
     "data": {
      "text/plain": [
       "array(['B', 'B', 'B', 'M', 'B', 'B', 'B', 'B', 'M', 'B', 'M', 'B', 'B',\n",
       "       'B', 'B', 'B', 'B', 'B', 'B', 'B', 'B', 'B', 'B', 'B', 'B', 'B',\n",
       "       'B', 'B', 'B', 'B', 'B', 'B', 'B', 'M', 'B', 'B', 'B', 'B', 'B',\n",
       "       'M', 'B', 'B', 'B', 'B', 'B', 'B', 'B', 'B', 'B', 'B', 'B', 'B',\n",
       "       'B', 'B', 'B', 'B', 'B', 'B', 'B', 'B', 'B', 'B', 'B', 'B', 'B',\n",
       "       'M', 'B', 'M', 'B', 'B', 'M', 'M', 'M', 'M', 'M', 'M', 'B', 'B',\n",
       "       'B', 'B', 'B', 'B', 'B', 'M', 'B', 'M', 'B', 'B', 'M', 'B', 'B',\n",
       "       'B', 'B', 'B', 'B', 'B', 'B', 'B', 'B', 'B', 'M', 'B', 'B', 'M',\n",
       "       'B', 'B', 'B', 'B', 'B', 'B', 'B', 'B', 'M'], dtype=object)"
      ]
     },
     "execution_count": 8,
     "metadata": {},
     "output_type": "execute_result"
    }
   ],
   "source": [
    "cv_results = cv_data_testing(cv_data)\n",
    "\n",
    "cv_results"
   ]
  },
  {
   "cell_type": "code",
   "execution_count": 21,
   "metadata": {},
   "outputs": [
    {
     "data": {
      "text/plain": [
       "array(['B', 'B', 'B', 'B', 'B', 'B', 'B', 'B', 'B', 'B', 'B', 'B', 'B',\n",
       "       'B', 'B', 'B', 'B', 'B', 'B', 'B', 'B', 'B', 'B', 'B', 'B', 'B',\n",
       "       'B', 'B', 'B', 'B', 'B', 'B', 'B', 'B', 'B', 'B', 'B', 'B', 'B',\n",
       "       'B', 'B', 'B', 'B', 'B', 'B', 'B', 'B', 'B', 'B', 'B', 'B', 'B',\n",
       "       'B', 'B', 'B', 'B', 'B', 'B', 'B', 'B', 'B', 'B', 'B', 'B', 'B',\n",
       "       'B', 'B', 'B', 'B', 'B', 'B', 'B', 'B', 'B', 'B', 'B', 'B', 'B',\n",
       "       'B', 'B', 'B', 'B', 'B', 'B', 'B', 'B', 'B', 'B', 'B', 'B', 'B',\n",
       "       'B', 'B', 'B', 'B', 'B', 'B', 'B', 'B', 'B', 'B', 'B', 'B', 'B',\n",
       "       'B', 'B', 'B', 'B', 'B', 'B', 'B', 'B', 'B'], dtype=object)"
      ]
     },
     "execution_count": 21,
     "metadata": {},
     "output_type": "execute_result"
    }
   ],
   "source": [
    "actual_results = np.array(cv_data['diagnosis'])\n",
    "\n",
    "actual_results"
   ]
  },
  {
   "cell_type": "code",
   "execution_count": 22,
   "metadata": {},
   "outputs": [
    {
     "data": {
      "text/plain": [
       "array([ True,  True,  True, False,  True,  True,  True,  True, False,\n",
       "        True, False,  True,  True,  True,  True,  True,  True,  True,\n",
       "        True,  True,  True,  True,  True,  True,  True,  True,  True,\n",
       "        True,  True,  True,  True,  True,  True, False,  True,  True,\n",
       "        True,  True,  True, False,  True,  True,  True,  True,  True,\n",
       "        True,  True,  True,  True,  True,  True,  True,  True,  True,\n",
       "        True,  True,  True,  True,  True,  True,  True,  True,  True,\n",
       "        True,  True, False,  True, False,  True,  True, False, False,\n",
       "       False, False, False, False,  True,  True,  True,  True,  True,\n",
       "        True,  True, False,  True, False,  True,  True, False,  True,\n",
       "        True,  True,  True,  True,  True,  True,  True,  True,  True,\n",
       "        True, False,  True,  True, False,  True,  True,  True,  True,\n",
       "        True,  True,  True,  True, False])"
      ]
     },
     "execution_count": 22,
     "metadata": {},
     "output_type": "execute_result"
    }
   ],
   "source": [
    "boolean_mask = cv_results == actual_results\n",
    "\n",
    "boolean_mask"
   ]
  },
  {
   "cell_type": "code",
   "execution_count": 23,
   "metadata": {},
   "outputs": [
    {
     "data": {
      "text/plain": [
       "0.831858407079646"
      ]
     },
     "execution_count": 23,
     "metadata": {},
     "output_type": "execute_result"
    }
   ],
   "source": [
    "cv_accuracy = np.count_nonzero(boolean_mask)/boolean_mask.shape[0]\n",
    "\n",
    "cv_accuracy"
   ]
  },
  {
   "cell_type": "code",
   "execution_count": 24,
   "metadata": {},
   "outputs": [
    {
     "data": {
      "text/plain": [
       "array(['B', 'B', 'B', 'B', 'B', 'B', 'B', 'B', 'B', 'B', 'B', 'B', 'B',\n",
       "       'B', 'B', 'B', 'B', 'B', 'B', 'B', 'M', 'M', 'B', 'M', 'M', 'M',\n",
       "       'B', 'M', 'B', 'B', 'B', 'B', 'B', 'B', 'M', 'B', 'M', 'M', 'B',\n",
       "       'M', 'M', 'B', 'M', 'M', 'B', 'M', 'M', 'M', 'M', 'M', 'M', 'M',\n",
       "       'M', 'M', 'M', 'M', 'M', 'M'], dtype=object)"
      ]
     },
     "execution_count": 24,
     "metadata": {},
     "output_type": "execute_result"
    }
   ],
   "source": [
    "testing_results = cv_data_testing(testing_data)\n",
    "\n",
    "testing_result"
   ]
  },
  {
   "cell_type": "code",
   "execution_count": 25,
   "metadata": {},
   "outputs": [
    {
     "data": {
      "text/plain": [
       "array(['B', 'B', 'B', 'B', 'B', 'B', 'B', 'B', 'B', 'B', 'B', 'B', 'B',\n",
       "       'B', 'B', 'B', 'B', 'B', 'B', 'B', 'B', 'B', 'B', 'B', 'B', 'B',\n",
       "       'B', 'B', 'B', 'B', 'B', 'B', 'B', 'B', 'B', 'B', 'B', 'B', 'B',\n",
       "       'B', 'B', 'B', 'B', 'B', 'B', 'M', 'M', 'M', 'M', 'M', 'M', 'M',\n",
       "       'M', 'M', 'M', 'M', 'M', 'M'], dtype=object)"
      ]
     },
     "execution_count": 25,
     "metadata": {},
     "output_type": "execute_result"
    }
   ],
   "source": [
    "actual_testing_results = np.array(testing_data['diagnosis'])\n",
    "\n",
    "actual_testing_results"
   ]
  },
  {
   "cell_type": "code",
   "execution_count": 27,
   "metadata": {},
   "outputs": [
    {
     "data": {
      "text/plain": [
       "0.7758620689655172"
      ]
     },
     "execution_count": 27,
     "metadata": {},
     "output_type": "execute_result"
    }
   ],
   "source": [
    "testing_accuracy = np.count_nonzero(testing_results == actual_testing_results)/actual_testing_results.shape[0]\n",
    "\n",
    "testing_accuracy"
   ]
  }
 ],
 "metadata": {
  "kernelspec": {
   "display_name": "Python 3",
   "language": "python",
   "name": "python3"
  },
  "language_info": {
   "codemirror_mode": {
    "name": "ipython",
    "version": 3
   },
   "file_extension": ".py",
   "mimetype": "text/x-python",
   "name": "python",
   "nbconvert_exporter": "python",
   "pygments_lexer": "ipython3",
   "version": "3.7.0"
  }
 },
 "nbformat": 4,
 "nbformat_minor": 2
}
